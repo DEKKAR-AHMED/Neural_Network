{
 "cells": [
  {
   "cell_type": "markdown",
   "metadata": {},
   "source": [
    "# MNIST MULTI-LAYER PERCEPTRON"
   ]
  },
  {
   "cell_type": "code",
   "execution_count": 1,
   "metadata": {},
   "outputs": [],
   "source": [
    "import tensorflow as tf "
   ]
  },
  {
   "cell_type": "code",
   "execution_count": 2,
   "metadata": {},
   "outputs": [],
   "source": [
    "from tensorflow.examples.tutorials.mnist import input_data"
   ]
  },
  {
   "cell_type": "code",
   "execution_count": 3,
   "metadata": {},
   "outputs": [
    {
     "name": "stdout",
     "output_type": "stream",
     "text": [
      "WARNING:tensorflow:From <ipython-input-3-39a41629ec58>:1: read_data_sets (from tensorflow.contrib.learn.python.learn.datasets.mnist) is deprecated and will be removed in a future version.\n",
      "Instructions for updating:\n",
      "Please use alternatives such as official/mnist/dataset.py from tensorflow/models.\n",
      "WARNING:tensorflow:From /home/ahmed/anaconda3/lib/python3.7/site-packages/tensorflow_core/contrib/learn/python/learn/datasets/mnist.py:260: maybe_download (from tensorflow.contrib.learn.python.learn.datasets.base) is deprecated and will be removed in a future version.\n",
      "Instructions for updating:\n",
      "Please write your own downloading logic.\n",
      "WARNING:tensorflow:From /home/ahmed/anaconda3/lib/python3.7/site-packages/tensorflow_core/contrib/learn/python/learn/datasets/mnist.py:262: extract_images (from tensorflow.contrib.learn.python.learn.datasets.mnist) is deprecated and will be removed in a future version.\n",
      "Instructions for updating:\n",
      "Please use tf.data to implement this functionality.\n",
      "Extracting tmp/data/train-images-idx3-ubyte.gz\n",
      "WARNING:tensorflow:From /home/ahmed/anaconda3/lib/python3.7/site-packages/tensorflow_core/contrib/learn/python/learn/datasets/mnist.py:267: extract_labels (from tensorflow.contrib.learn.python.learn.datasets.mnist) is deprecated and will be removed in a future version.\n",
      "Instructions for updating:\n",
      "Please use tf.data to implement this functionality.\n",
      "Extracting tmp/data/train-labels-idx1-ubyte.gz\n",
      "WARNING:tensorflow:From /home/ahmed/anaconda3/lib/python3.7/site-packages/tensorflow_core/contrib/learn/python/learn/datasets/mnist.py:110: dense_to_one_hot (from tensorflow.contrib.learn.python.learn.datasets.mnist) is deprecated and will be removed in a future version.\n",
      "Instructions for updating:\n",
      "Please use tf.one_hot on tensors.\n",
      "Extracting tmp/data/t10k-images-idx3-ubyte.gz\n",
      "Extracting tmp/data/t10k-labels-idx1-ubyte.gz\n",
      "WARNING:tensorflow:From /home/ahmed/anaconda3/lib/python3.7/site-packages/tensorflow_core/contrib/learn/python/learn/datasets/mnist.py:290: DataSet.__init__ (from tensorflow.contrib.learn.python.learn.datasets.mnist) is deprecated and will be removed in a future version.\n",
      "Instructions for updating:\n",
      "Please use alternatives such as official/mnist/dataset.py from tensorflow/models.\n"
     ]
    }
   ],
   "source": [
    "mnist = input_data.read_data_sets(\"tmp/data\",one_hot=True)"
   ]
  },
  {
   "cell_type": "code",
   "execution_count": 4,
   "metadata": {},
   "outputs": [
    {
     "data": {
      "text/plain": [
       "tensorflow.contrib.learn.python.learn.datasets.base.Datasets"
      ]
     },
     "execution_count": 4,
     "metadata": {},
     "output_type": "execute_result"
    }
   ],
   "source": [
    " type(mnist)"
   ]
  },
  {
   "cell_type": "code",
   "execution_count": 5,
   "metadata": {},
   "outputs": [
    {
     "data": {
      "text/plain": [
       "'\\n there is 55000 images and each image is from 784 pixels\\n'"
      ]
     },
     "execution_count": 5,
     "metadata": {},
     "output_type": "execute_result"
    }
   ],
   "source": [
    "mnist.train.images.shape\n",
    "'''\n",
    " there is 55000 images and each image is from 784 pixels\n",
    "'''"
   ]
  },
  {
   "cell_type": "code",
   "execution_count": 6,
   "metadata": {},
   "outputs": [],
   "source": [
    "#mnist.train.images[2].reshape(28,28)"
   ]
  },
  {
   "cell_type": "code",
   "execution_count": 7,
   "metadata": {},
   "outputs": [],
   "source": [
    "import matplotlib.pyplot as plt\n",
    "%matplotlib inline"
   ]
  },
  {
   "cell_type": "code",
   "execution_count": 8,
   "metadata": {},
   "outputs": [
    {
     "data": {
      "text/plain": [
       "<matplotlib.image.AxesImage at 0x7f7ef9cf8810>"
      ]
     },
     "execution_count": 8,
     "metadata": {},
     "output_type": "execute_result"
    },
    {
     "data": {
      "image/png": "[encoded data removed]",
      "text/plain": [
       "<Figure size 432x288 with 1 Axes>"
      ]
     },
     "metadata": {
      "needs_background": "light"
     },
     "output_type": "display_data"
    }
   ],
   "source": [
    "# imshow allow us to show image from matrix column \n",
    "plt.imshow(mnist.train.images[80].reshape(28,28),cmap=\"Greys\")"
   ]
  },
  {
   "cell_type": "markdown",
   "metadata": {},
   "source": [
    "\n",
    "# we are going to try to make a deep learning or multi layer precepteress network to be able to just take in the pixel information here and correctly classify it as to whatever number it represents  and correctly classify it as to whatever number it represents \n"
   ]
  },
  {
   "cell_type": "code",
   "execution_count": 9,
   "metadata": {},
   "outputs": [],
   "source": [
    "# define some para\n",
    "#(the tree basic parametres that we are going to use later)\n",
    "    # the learning rate \n",
    "    # the number of training \n",
    "    # the patch batch size \n"
   ]
  },
  {
   "cell_type": "code",
   "execution_count": 10,
   "metadata": {},
   "outputs": [],
   "source": [
    "# he going to be how wuickly we adjust our cost function \n",
    "learning_rate = 0.001\n",
    "#how many training we going through \n",
    "training_epochs = 15\n",
    "# the size of the batches of training data \n",
    "batch_size =   100"
   ]
  },
  {
   "cell_type": "code",
   "execution_count": 17,
   "metadata": {},
   "outputs": [
    {
     "data": {
      "text/plain": [
       "55000"
      ]
     },
     "execution_count": 17,
     "metadata": {},
     "output_type": "execute_result"
    }
   ],
   "source": [
    "# now we have some network parameters that directly define \n",
    "# what our neural network will look like \n",
    "n_classes = 10 #(the number of output we must have 1,2,3...10)\n",
    "n_sample = mnist.train.num_examples # number of observation or input \n",
    "n_sample\n"
   ]
  },
  {
   "cell_type": "code",
   "execution_count": 19,
   "metadata": {},
   "outputs": [],
   "source": [
    "n_input = 784 # the nb pixel  of obervation we want only images of 784 pix \n",
    "# cause we have 28*28"
   ]
  },
  {
   "cell_type": "code",
   "execution_count": 20,
   "metadata": {},
   "outputs": [],
   "source": [
    "# how  many neurons we are goiing to use \n",
    "# we use 256 because computer store image information like this \n",
    "n_hideden_l1 = 256\n",
    "n_hideden_l2 = 256"
   ]
  },
  {
   "cell_type": "code",
   "execution_count": 22,
   "metadata": {},
   "outputs": [
    {
     "data": {
      "text/plain": [
       "\"\\n now we have our param next we are going to  receive our input data \\narray and send it to the first hidden layer of 256 neurons  then the data beging \\nhaving weight attached to it between the layers thats oass along  between the layers \\nalso we add a bais along then continue to the next hid layer \\ntill the end outputlayer \\nonce that transformed data that'e been multiplied by these waits had reashed the output layer \\nwe evaluate how far off  from the desires results  we are  we are goiing to use a cost or loss function\\nand check how many classes are correct and minimize this cost function by adjusting the \\nweight values.\\n\\nin our case we will use a very commun optimizer Atom optimizer \\nwe are going to see how quickly to apply this optimization by changing the learning rate \\nthat say how quickly do you want apply that optimization function\\nand the lower the rate the higher the accurate with lot of time \\n\\n\""
      ]
     },
     "execution_count": 22,
     "metadata": {},
     "output_type": "execute_result"
    }
   ],
   "source": [
    "'''\n",
    " now we have our param next we are going to  receive our input data \n",
    "array and send it to the first hidden layer of 256 neurons  then the data beging \n",
    "having weight attached to it between the layers thats oass along  between the layers \n",
    "also we add a bais along then continue to the next hid layer \n",
    "till the end outputlayer \n",
    "once that transformed data that'e been multiplied by these waits had reashed the output layer \n",
    "we evaluate how far off  from the desires results  we are  we are goiing to use a cost or loss function\n",
    "and check how many classes are correct and minimize this cost function by adjusting the \n",
    "weight values.\n",
    "\n",
    "in our case we will use a very commun optimizer Atom optimizer \n",
    "we are going to see how quickly to apply this optimization by changing the learning rate \n",
    "that say how quickly do you want apply that optimization function\n",
    "and the lower the rate the higher the accurate with lot of time \n",
    "\n",
    "'''"
   ]
  },
  {
   "cell_type": "markdown",
   "metadata": {},
   "source": [
    "# create our function "
   ]
  },
  {
   "cell_type": "code",
   "execution_count": 34,
   "metadata": {},
   "outputs": [],
   "source": [
    "# this function create a model we ll stat with two hitting layers \n",
    "# and going to use the RELU activation function which is the very simple\n",
    "# rectifier function which return x or 0\n",
    "# for the final output we will unse linear activation matrix multiplication \n",
    "\n",
    "\n",
    "def multiplayer_preceptron(x,weiths,baises):\n",
    "    '''\n",
    "     x : placeholder for data input \n",
    "     weights : dic of weights\n",
    "     biases  : dic of bias values \n",
    "    '''\n",
    "    \n",
    "    #first Hiden Layer with RELU  ACtivation \n",
    "    # X * W + B \n",
    "    layer_1 = tf.add(tf.matmul(x,weights['h1']),baises['b1'])\n",
    "    # func (x*w+b) = RELU -> f(x)= max(0,x)\n",
    "    layer_1 = tf.nn.relu(layer_1)\n",
    "    \n",
    "    #Second hidden layer \n",
    "    #first Hiden Layer with RELU  ACtivation \n",
    "    # X * W + B \n",
    "    layer_2 = tf.add(tf.matmul(layer_1,weights['h2']),baises['b2'])\n",
    "    # func (x*w+b) = RELU -> f(x)= max(0,x)\n",
    "    layer_1 = tf.nn.relu(layer_2)\n",
    "    \n",
    "    #last output layer \n",
    "    out_layer = tf.matmul(layer_2,weights[\"out\"])+ baises[\"out\"]\n",
    "    \n",
    "    return out_layer\n"
   ]
  },
  {
   "cell_type": "code",
   "execution_count": 35,
   "metadata": {},
   "outputs": [
    {
     "data": {
      "text/plain": [
       "{'h1': <tf.Variable 'Variable_9:0' shape=(784, 256) dtype=float32_ref>,\n",
       " 'h2': <tf.Variable 'Variable_10:0' shape=(256, 256) dtype=float32_ref>,\n",
       " 'out': <tf.Variable 'Variable_11:0' shape=(256, 10) dtype=float32_ref>}"
      ]
     },
     "execution_count": 35,
     "metadata": {},
     "output_type": "execute_result"
    }
   ],
   "source": [
    "# the dic of weights and Bias \n",
    "# we goona introduce a new object type from tf called variable \n",
    "# and this is diferent from constant because tf has what's know as \n",
    "#graph object  that can become aware of the states of all variables \n",
    "# and variable is editable in tf \n",
    "\n",
    "weights = {\n",
    "    # cause we want wights to be random \n",
    "    \"h1\":tf.Variable(tf.random_normal([n_input,n_hideden_l1])),\n",
    "    \"h2\":tf.Variable(tf.random_normal([n_hideden_l1,n_hideden_l2])),\n",
    "    \"out\": tf.Variable(tf.random_normal([n_hideden_l2,n_classes]))\n",
    "}\n",
    "weights"
   ]
  },
  {
   "cell_type": "code",
   "execution_count": 36,
   "metadata": {},
   "outputs": [],
   "source": [
    "biases = {\n",
    "    # cause we want biases  to be random \n",
    "    # we want to be an item of a list \n",
    "    \"b1\":tf.Variable(tf.random_normal([n_hideden_l1])),\n",
    "    \"b2\":tf.Variable(tf.random_normal([n_hideden_l2])),\n",
    "    \"out\": tf.Variable(tf.random_normal([n_classes]))\n",
    "}"
   ]
  },
  {
   "cell_type": "code",
   "execution_count": 52,
   "metadata": {},
   "outputs": [],
   "source": [
    "# the last thing to do is set to placeholder for x and y \n",
    "x = tf.placeholder(\"float\",[None,n_input])"
   ]
  },
  {
   "cell_type": "code",
   "execution_count": 53,
   "metadata": {},
   "outputs": [],
   "source": [
    "y = tf.placeholder(\"float\",[None,n_classes])"
   ]
  },
  {
   "cell_type": "code",
   "execution_count": 54,
   "metadata": {},
   "outputs": [],
   "source": [
    "# now we construct the model "
   ]
  },
  {
   "cell_type": "code",
   "execution_count": 55,
   "metadata": {},
   "outputs": [],
   "source": [
    "pred = multiplayer_preceptron(x,weights,biases)"
   ]
  },
  {
   "cell_type": "code",
   "execution_count": 56,
   "metadata": {},
   "outputs": [],
   "source": [
    "# define out cost optimization function "
   ]
  },
  {
   "cell_type": "code",
   "execution_count": 62,
   "metadata": {},
   "outputs": [],
   "source": [
    "cost = tf.reduce_mean(tf.nn.softmax_cross_entropy_with_logits(logits = pred, labels=y))"
   ]
  },
  {
   "cell_type": "code",
   "execution_count": 63,
   "metadata": {},
   "outputs": [],
   "source": [
    "optimizer = tf.train.AdamOptimizer(learning_rate=learning_rate).minimize(cost)"
   ]
  },
  {
   "cell_type": "code",
   "execution_count": 64,
   "metadata": {},
   "outputs": [],
   "source": [
    "# the next thing we will do is just train our model \n",
    "# and train our model for 15 epochs"
   ]
  },
  {
   "cell_type": "markdown",
   "metadata": {},
   "source": [
    "# Training the model "
   ]
  },
  {
   "cell_type": "code",
   "execution_count": 73,
   "metadata": {},
   "outputs": [
    {
     "data": {
      "text/plain": [
       "<matplotlib.image.AxesImage at 0x7f7ee9b69550>"
      ]
     },
     "execution_count": 73,
     "metadata": {},
     "output_type": "execute_result"
    },
    {
     "data": {
      "image/png": "[encoded data removed]",
      "text/plain": [
       "<Figure size 432x288 with 1 Axes>"
      ]
     },
     "metadata": {
      "needs_background": "light"
     },
     "output_type": "display_data"
    }
   ],
   "source": [
    "# there is one more convenience function to explain  that's \n",
    "# available in our mnist data object next_batch what doeas \n",
    "#you can pass in a number and will return ad tuple of batch of 10 sample \n",
    "\n",
    "t = mnist.train.next_batch(1)\n",
    "# what means it just a 10 sample of the actual training data \n",
    "Xsamp,Ysamp = t\n",
    "plt.imshow(Xsamp.reshape(28,28),cmap=\"Greys\")\n",
    "\n",
    "# to conclude next batch return the input and their label as here \n",
    "# as here the degit in the image and the label that correspond to it \n"
   ]
  },
  {
   "cell_type": "code",
   "execution_count": 74,
   "metadata": {},
   "outputs": [
    {
     "data": {
      "text/plain": [
       "array([[1., 0., 0., 0., 0., 0., 0., 0., 0., 0.]])"
      ]
     },
     "execution_count": 74,
     "metadata": {},
     "output_type": "execute_result"
    }
   ],
   "source": [
    "Ysamp"
   ]
  },
  {
   "cell_type": "markdown",
   "metadata": {},
   "source": [
    "  ## RUN THE SESSION "
   ]
  },
  {
   "cell_type": "code",
   "execution_count": 76,
   "metadata": {},
   "outputs": [],
   "source": [
    "sess = tf.InteractiveSession()"
   ]
  },
  {
   "cell_type": "code",
   "execution_count": 77,
   "metadata": {},
   "outputs": [
    {
     "name": "stdout",
     "output_type": "stream",
     "text": [
      "WARNING:tensorflow:From /home/ahmed/anaconda3/lib/python3.7/site-packages/tensorflow_core/python/util/tf_should_use.py:198: initialize_all_variables (from tensorflow.python.ops.variables) is deprecated and will be removed after 2017-03-02.\n",
      "Instructions for updating:\n",
      "Use `tf.global_variables_initializer` instead.\n"
     ]
    }
   ],
   "source": [
    "init = tf.initialize_all_variables()"
   ]
  },
  {
   "cell_type": "code",
   "execution_count": 78,
   "metadata": {},
   "outputs": [],
   "source": [
    "sess.run(init)"
   ]
  },
  {
   "cell_type": "code",
   "execution_count": 82,
   "metadata": {},
   "outputs": [
    {
     "name": "stdout",
     "output_type": "stream",
     "text": [
      "Epoch : 1 cost 219.7692\n",
      "Epoch : 2 cost 55.2873\n",
      "Epoch : 3 cost 35.2287\n",
      "Epoch : 4 cost 25.1905\n",
      "Epoch : 5 cost 18.5790\n",
      "Epoch : 6 cost 14.5779\n",
      "Epoch : 7 cost 11.4998\n",
      "Epoch : 8 cost 8.9865\n",
      "Epoch : 9 cost 7.3399\n",
      "Epoch : 10 cost 5.9399\n",
      "Epoch : 11 cost 4.9876\n",
      "Epoch : 12 cost 4.0577\n",
      "Epoch : 13 cost 3.5024\n",
      "Epoch : 14 cost 3.1145\n",
      "Epoch : 15 cost 2.4469\n",
      "Model has completed 15 epochs of training \n"
     ]
    }
   ],
   "source": [
    "# 15 loops \n",
    "for epoch in range(training_epochs):\n",
    "    \n",
    "    # cost \n",
    "    avg_cost = 0.0\n",
    "    total_batch = int (n_sample/batch_size)\n",
    "    for i in range(total_batch):\n",
    "        batch_x,batch_y = mnist.train.next_batch(batch_size)\n",
    "        # now we will u se the feed dictionary for the optimization\n",
    "        # and loss value \n",
    "        _,c = sess.run([optimizer,cost],feed_dict={x:batch_x,y:batch_y})\n",
    "        # the reason we put anderscore because we will never goin to use \n",
    "        # this variable so sess run return the loss value \n",
    "        avg_cost += c/total_batch\n",
    "        \n",
    "    print(\"Epoch : {} cost {:.4f}\".format(epoch+1,avg_cost))\n",
    "print(\"Model has completed {} epochs of training \".format(training_epochs))"
   ]
  },
  {
   "cell_type": "markdown",
   "metadata": {},
   "source": [
    "# TIME TO EVALUATE OUR MODEL "
   ]
  },
  {
   "cell_type": "code",
   "execution_count": 96,
   "metadata": {},
   "outputs": [],
   "source": [
    "#tf.equal is a way of checking how many predication are equal to the test \n",
    "correct_prod= tf.equal(tf.argmax(pred,1),tf.arg_max(y,1))"
   ]
  },
  {
   "cell_type": "code",
   "execution_count": 84,
   "metadata": {},
   "outputs": [
    {
     "name": "stdout",
     "output_type": "stream",
     "text": [
      "Tensor(\"strided_slice:0\", shape=(), dtype=bool)\n"
     ]
    }
   ],
   "source": [
    "print(correct_prod[0])"
   ]
  },
  {
   "cell_type": "code",
   "execution_count": 85,
   "metadata": {},
   "outputs": [],
   "source": [
    "correct_prod = tf.cast(correct_prod,\"float\")"
   ]
  },
  {
   "cell_type": "code",
   "execution_count": 86,
   "metadata": {},
   "outputs": [
    {
     "name": "stdout",
     "output_type": "stream",
     "text": [
      "Tensor(\"strided_slice_1:0\", shape=(), dtype=float32)\n"
     ]
    }
   ],
   "source": [
    "print(correct_prod[0])"
   ]
  },
  {
   "cell_type": "code",
   "execution_count": 87,
   "metadata": {},
   "outputs": [],
   "source": [
    "# reduce mean in order to grab the mean of elements across the tensor\n",
    "accuracy = tf.reduce_mean(correct_prod)"
   ]
  },
  {
   "cell_type": "code",
   "execution_count": 89,
   "metadata": {},
   "outputs": [
    {
     "data": {
      "text/plain": [
       "tensorflow.python.framework.ops.Tensor"
      ]
     },
     "execution_count": 89,
     "metadata": {},
     "output_type": "execute_result"
    }
   ],
   "source": [
    "type(accuracy)"
   ]
  },
  {
   "cell_type": "code",
   "execution_count": 90,
   "metadata": {},
   "outputs": [
    {
     "data": {
      "text/plain": [
       "array([0., 0., 0., 0., 0., 0., 0., 1., 0., 0.])"
      ]
     },
     "execution_count": 90,
     "metadata": {},
     "output_type": "execute_result"
    }
   ],
   "source": [
    "mnist.test.labels[0]"
   ]
  },
  {
   "cell_type": "code",
   "execution_count": 91,
   "metadata": {},
   "outputs": [],
   "source": [
    "#mnits.test.images[0]"
   ]
  },
  {
   "cell_type": "code",
   "execution_count": 94,
   "metadata": {},
   "outputs": [
    {
     "data": {
      "text/plain": [
       "0.9506"
      ]
     },
     "execution_count": 94,
     "metadata": {},
     "output_type": "execute_result"
    }
   ],
   "source": [
    "accuracy.eval({x:mnist.test.images,y:mnist.test.labels})"
   ]
  },
  {
   "cell_type": "code",
   "execution_count": null,
   "metadata": {},
   "outputs": [],
   "source": []
  }
 ],
 "metadata": {
  "kernelspec": {
   "display_name": "Python 3",
   "language": "python",
   "name": "python3"
  },
  "language_info": {
   "codemirror_mode": {
    "name": "ipython",
    "version": 3
   },
   "file_extension": ".py",
   "mimetype": "text/x-python",
   "name": "python",
   "nbconvert_exporter": "python",
   "pygments_lexer": "ipython3",
   "version": "3.7.4"
  }
 },
 "nbformat": 4,
 "nbformat_minor": 2
}
