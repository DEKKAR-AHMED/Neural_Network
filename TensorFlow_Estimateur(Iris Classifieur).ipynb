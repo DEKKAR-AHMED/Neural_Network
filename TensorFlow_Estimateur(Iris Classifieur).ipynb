{
 "cells": [
  {
   "cell_type": "code",
   "execution_count": 1,
   "metadata": {},
   "outputs": [
    {
     "data": {
      "text/plain": [
       "'\\nEstimateur steps :\\n    read in data (normalize if necessary)\\n    Train/Test split the data \\n    Create Estimateur Feature Columns \\n    Create input Estimateur Function \\n    Train Estimateur model\\n    Predict with new Test input function \\n    \\n'"
      ]
     },
     "execution_count": 1,
     "metadata": {},
     "output_type": "execute_result"
    }
   ],
   "source": [
    "'''\n",
    "Estimateur steps :\n",
    "    read in data (normalize if necessary)\n",
    "    Train/Test split the data \n",
    "    Create Estimateur Feature Columns \n",
    "    Create input Estimateur Function \n",
    "    Train Estimateur model\n",
    "    Predict with new Test input function \n",
    "    \n",
    "'''"
   ]
  },
  {
   "cell_type": "code",
   "execution_count": 2,
   "metadata": {},
   "outputs": [],
   "source": [
    "import pandas as pd "
   ]
  },
  {
   "cell_type": "code",
   "execution_count": 3,
   "metadata": {},
   "outputs": [],
   "source": [
    "df = pd.read_csv(\"iris.csv\")"
   ]
  },
  {
   "cell_type": "code",
   "execution_count": 4,
   "metadata": {},
   "outputs": [
    {
     "data": {
      "text/html": [
       "<div>\n",
       "<style scoped>\n",
       "    .dataframe tbody tr th:only-of-type {\n",
       "        vertical-align: middle;\n",
       "    }\n",
       "\n",
       "    .dataframe tbody tr th {\n",
       "        vertical-align: top;\n",
       "    }\n",
       "\n",
       "    .dataframe thead th {\n",
       "        text-align: right;\n",
       "    }\n",
       "</style>\n",
       "<table border=\"1\" class=\"dataframe\">\n",
       "  <thead>\n",
       "    <tr style=\"text-align: right;\">\n",
       "      <th></th>\n",
       "      <th>sepal length (cm)</th>\n",
       "      <th>sepal width (cm)</th>\n",
       "      <th>petal length (cm)</th>\n",
       "      <th>petal width (cm)</th>\n",
       "      <th>target</th>\n",
       "    </tr>\n",
       "  </thead>\n",
       "  <tbody>\n",
       "    <tr>\n",
       "      <th>0</th>\n",
       "      <td>5.1</td>\n",
       "      <td>3.5</td>\n",
       "      <td>1.4</td>\n",
       "      <td>0.2</td>\n",
       "      <td>0.0</td>\n",
       "    </tr>\n",
       "    <tr>\n",
       "      <th>1</th>\n",
       "      <td>4.9</td>\n",
       "      <td>3.0</td>\n",
       "      <td>1.4</td>\n",
       "      <td>0.2</td>\n",
       "      <td>0.0</td>\n",
       "    </tr>\n",
       "    <tr>\n",
       "      <th>2</th>\n",
       "      <td>4.7</td>\n",
       "      <td>3.2</td>\n",
       "      <td>1.3</td>\n",
       "      <td>0.2</td>\n",
       "      <td>0.0</td>\n",
       "    </tr>\n",
       "    <tr>\n",
       "      <th>3</th>\n",
       "      <td>4.6</td>\n",
       "      <td>3.1</td>\n",
       "      <td>1.5</td>\n",
       "      <td>0.2</td>\n",
       "      <td>0.0</td>\n",
       "    </tr>\n",
       "    <tr>\n",
       "      <th>4</th>\n",
       "      <td>5.0</td>\n",
       "      <td>3.6</td>\n",
       "      <td>1.4</td>\n",
       "      <td>0.2</td>\n",
       "      <td>0.0</td>\n",
       "    </tr>\n",
       "  </tbody>\n",
       "</table>\n",
       "</div>"
      ],
      "text/plain": [
       "   sepal length (cm)  sepal width (cm)  petal length (cm)  petal width (cm)  \\\n",
       "0                5.1               3.5                1.4               0.2   \n",
       "1                4.9               3.0                1.4               0.2   \n",
       "2                4.7               3.2                1.3               0.2   \n",
       "3                4.6               3.1                1.5               0.2   \n",
       "4                5.0               3.6                1.4               0.2   \n",
       "\n",
       "   target  \n",
       "0     0.0  \n",
       "1     0.0  \n",
       "2     0.0  \n",
       "3     0.0  \n",
       "4     0.0  "
      ]
     },
     "execution_count": 4,
     "metadata": {},
     "output_type": "execute_result"
    }
   ],
   "source": [
    "df.head()"
   ]
  },
  {
   "cell_type": "code",
   "execution_count": 6,
   "metadata": {},
   "outputs": [
    {
     "data": {
      "text/html": [
       "<div>\n",
       "<style scoped>\n",
       "    .dataframe tbody tr th:only-of-type {\n",
       "        vertical-align: middle;\n",
       "    }\n",
       "\n",
       "    .dataframe tbody tr th {\n",
       "        vertical-align: top;\n",
       "    }\n",
       "\n",
       "    .dataframe thead th {\n",
       "        text-align: right;\n",
       "    }\n",
       "</style>\n",
       "<table border=\"1\" class=\"dataframe\">\n",
       "  <thead>\n",
       "    <tr style=\"text-align: right;\">\n",
       "      <th></th>\n",
       "      <th>sepal_length</th>\n",
       "      <th>sepal_width</th>\n",
       "      <th>petal_length</th>\n",
       "      <th>petal_width</th>\n",
       "      <th>target</th>\n",
       "    </tr>\n",
       "  </thead>\n",
       "  <tbody>\n",
       "    <tr>\n",
       "      <th>0</th>\n",
       "      <td>5.1</td>\n",
       "      <td>3.5</td>\n",
       "      <td>1.4</td>\n",
       "      <td>0.2</td>\n",
       "      <td>0.0</td>\n",
       "    </tr>\n",
       "    <tr>\n",
       "      <th>1</th>\n",
       "      <td>4.9</td>\n",
       "      <td>3.0</td>\n",
       "      <td>1.4</td>\n",
       "      <td>0.2</td>\n",
       "      <td>0.0</td>\n",
       "    </tr>\n",
       "    <tr>\n",
       "      <th>2</th>\n",
       "      <td>4.7</td>\n",
       "      <td>3.2</td>\n",
       "      <td>1.3</td>\n",
       "      <td>0.2</td>\n",
       "      <td>0.0</td>\n",
       "    </tr>\n",
       "    <tr>\n",
       "      <th>3</th>\n",
       "      <td>4.6</td>\n",
       "      <td>3.1</td>\n",
       "      <td>1.5</td>\n",
       "      <td>0.2</td>\n",
       "      <td>0.0</td>\n",
       "    </tr>\n",
       "    <tr>\n",
       "      <th>4</th>\n",
       "      <td>5.0</td>\n",
       "      <td>3.6</td>\n",
       "      <td>1.4</td>\n",
       "      <td>0.2</td>\n",
       "      <td>0.0</td>\n",
       "    </tr>\n",
       "  </tbody>\n",
       "</table>\n",
       "</div>"
      ],
      "text/plain": [
       "   sepal_length  sepal_width  petal_length  petal_width  target\n",
       "0           5.1          3.5           1.4          0.2     0.0\n",
       "1           4.9          3.0           1.4          0.2     0.0\n",
       "2           4.7          3.2           1.3          0.2     0.0\n",
       "3           4.6          3.1           1.5          0.2     0.0\n",
       "4           5.0          3.6           1.4          0.2     0.0"
      ]
     },
     "execution_count": 6,
     "metadata": {},
     "output_type": "execute_result"
    }
   ],
   "source": [
    " '''\n",
    "  in order to use tensorFlow object there some few thing to respect \n",
    "  one thing the actual columns names must mot have any special char\n",
    "  the target must be an integer\n",
    " '''\n",
    "    #renames the columns \n",
    "df.columns = [\"sepal_length\",\"sepal_width\",\"petal_length\",\"petal_width\",\"target\"]\n",
    "df.head()"
   ]
  },
  {
   "cell_type": "code",
   "execution_count": 7,
   "metadata": {},
   "outputs": [],
   "source": [
    "df[\"target\"] = df[\"target\"].apply(int)"
   ]
  },
  {
   "cell_type": "code",
   "execution_count": 8,
   "metadata": {},
   "outputs": [
    {
     "data": {
      "text/html": [
       "<div>\n",
       "<style scoped>\n",
       "    .dataframe tbody tr th:only-of-type {\n",
       "        vertical-align: middle;\n",
       "    }\n",
       "\n",
       "    .dataframe tbody tr th {\n",
       "        vertical-align: top;\n",
       "    }\n",
       "\n",
       "    .dataframe thead th {\n",
       "        text-align: right;\n",
       "    }\n",
       "</style>\n",
       "<table border=\"1\" class=\"dataframe\">\n",
       "  <thead>\n",
       "    <tr style=\"text-align: right;\">\n",
       "      <th></th>\n",
       "      <th>sepal_length</th>\n",
       "      <th>sepal_width</th>\n",
       "      <th>petal_length</th>\n",
       "      <th>petal_width</th>\n",
       "      <th>target</th>\n",
       "    </tr>\n",
       "  </thead>\n",
       "  <tbody>\n",
       "    <tr>\n",
       "      <th>0</th>\n",
       "      <td>5.1</td>\n",
       "      <td>3.5</td>\n",
       "      <td>1.4</td>\n",
       "      <td>0.2</td>\n",
       "      <td>0</td>\n",
       "    </tr>\n",
       "    <tr>\n",
       "      <th>1</th>\n",
       "      <td>4.9</td>\n",
       "      <td>3.0</td>\n",
       "      <td>1.4</td>\n",
       "      <td>0.2</td>\n",
       "      <td>0</td>\n",
       "    </tr>\n",
       "    <tr>\n",
       "      <th>2</th>\n",
       "      <td>4.7</td>\n",
       "      <td>3.2</td>\n",
       "      <td>1.3</td>\n",
       "      <td>0.2</td>\n",
       "      <td>0</td>\n",
       "    </tr>\n",
       "    <tr>\n",
       "      <th>3</th>\n",
       "      <td>4.6</td>\n",
       "      <td>3.1</td>\n",
       "      <td>1.5</td>\n",
       "      <td>0.2</td>\n",
       "      <td>0</td>\n",
       "    </tr>\n",
       "    <tr>\n",
       "      <th>4</th>\n",
       "      <td>5.0</td>\n",
       "      <td>3.6</td>\n",
       "      <td>1.4</td>\n",
       "      <td>0.2</td>\n",
       "      <td>0</td>\n",
       "    </tr>\n",
       "  </tbody>\n",
       "</table>\n",
       "</div>"
      ],
      "text/plain": [
       "   sepal_length  sepal_width  petal_length  petal_width  target\n",
       "0           5.1          3.5           1.4          0.2       0\n",
       "1           4.9          3.0           1.4          0.2       0\n",
       "2           4.7          3.2           1.3          0.2       0\n",
       "3           4.6          3.1           1.5          0.2       0\n",
       "4           5.0          3.6           1.4          0.2       0"
      ]
     },
     "execution_count": 8,
     "metadata": {},
     "output_type": "execute_result"
    }
   ],
   "source": [
    "df.head()"
   ]
  },
  {
   "cell_type": "code",
   "execution_count": 9,
   "metadata": {},
   "outputs": [],
   "source": [
    "y = df[\"target\"]"
   ]
  },
  {
   "cell_type": "code",
   "execution_count": 11,
   "metadata": {},
   "outputs": [],
   "source": [
    "x = df.drop(\"target\",axis=1)"
   ]
  },
  {
   "cell_type": "code",
   "execution_count": 12,
   "metadata": {},
   "outputs": [
    {
     "data": {
      "text/html": [
       "<div>\n",
       "<style scoped>\n",
       "    .dataframe tbody tr th:only-of-type {\n",
       "        vertical-align: middle;\n",
       "    }\n",
       "\n",
       "    .dataframe tbody tr th {\n",
       "        vertical-align: top;\n",
       "    }\n",
       "\n",
       "    .dataframe thead th {\n",
       "        text-align: right;\n",
       "    }\n",
       "</style>\n",
       "<table border=\"1\" class=\"dataframe\">\n",
       "  <thead>\n",
       "    <tr style=\"text-align: right;\">\n",
       "      <th></th>\n",
       "      <th>sepal_length</th>\n",
       "      <th>sepal_width</th>\n",
       "      <th>petal_length</th>\n",
       "      <th>petal_width</th>\n",
       "    </tr>\n",
       "  </thead>\n",
       "  <tbody>\n",
       "    <tr>\n",
       "      <th>0</th>\n",
       "      <td>5.1</td>\n",
       "      <td>3.5</td>\n",
       "      <td>1.4</td>\n",
       "      <td>0.2</td>\n",
       "    </tr>\n",
       "    <tr>\n",
       "      <th>1</th>\n",
       "      <td>4.9</td>\n",
       "      <td>3.0</td>\n",
       "      <td>1.4</td>\n",
       "      <td>0.2</td>\n",
       "    </tr>\n",
       "    <tr>\n",
       "      <th>2</th>\n",
       "      <td>4.7</td>\n",
       "      <td>3.2</td>\n",
       "      <td>1.3</td>\n",
       "      <td>0.2</td>\n",
       "    </tr>\n",
       "    <tr>\n",
       "      <th>3</th>\n",
       "      <td>4.6</td>\n",
       "      <td>3.1</td>\n",
       "      <td>1.5</td>\n",
       "      <td>0.2</td>\n",
       "    </tr>\n",
       "    <tr>\n",
       "      <th>4</th>\n",
       "      <td>5.0</td>\n",
       "      <td>3.6</td>\n",
       "      <td>1.4</td>\n",
       "      <td>0.2</td>\n",
       "    </tr>\n",
       "    <tr>\n",
       "      <th>...</th>\n",
       "      <td>...</td>\n",
       "      <td>...</td>\n",
       "      <td>...</td>\n",
       "      <td>...</td>\n",
       "    </tr>\n",
       "    <tr>\n",
       "      <th>145</th>\n",
       "      <td>6.7</td>\n",
       "      <td>3.0</td>\n",
       "      <td>5.2</td>\n",
       "      <td>2.3</td>\n",
       "    </tr>\n",
       "    <tr>\n",
       "      <th>146</th>\n",
       "      <td>6.3</td>\n",
       "      <td>2.5</td>\n",
       "      <td>5.0</td>\n",
       "      <td>1.9</td>\n",
       "    </tr>\n",
       "    <tr>\n",
       "      <th>147</th>\n",
       "      <td>6.5</td>\n",
       "      <td>3.0</td>\n",
       "      <td>5.2</td>\n",
       "      <td>2.0</td>\n",
       "    </tr>\n",
       "    <tr>\n",
       "      <th>148</th>\n",
       "      <td>6.2</td>\n",
       "      <td>3.4</td>\n",
       "      <td>5.4</td>\n",
       "      <td>2.3</td>\n",
       "    </tr>\n",
       "    <tr>\n",
       "      <th>149</th>\n",
       "      <td>5.9</td>\n",
       "      <td>3.0</td>\n",
       "      <td>5.1</td>\n",
       "      <td>1.8</td>\n",
       "    </tr>\n",
       "  </tbody>\n",
       "</table>\n",
       "<p>150 rows × 4 columns</p>\n",
       "</div>"
      ],
      "text/plain": [
       "     sepal_length  sepal_width  petal_length  petal_width\n",
       "0             5.1          3.5           1.4          0.2\n",
       "1             4.9          3.0           1.4          0.2\n",
       "2             4.7          3.2           1.3          0.2\n",
       "3             4.6          3.1           1.5          0.2\n",
       "4             5.0          3.6           1.4          0.2\n",
       "..            ...          ...           ...          ...\n",
       "145           6.7          3.0           5.2          2.3\n",
       "146           6.3          2.5           5.0          1.9\n",
       "147           6.5          3.0           5.2          2.0\n",
       "148           6.2          3.4           5.4          2.3\n",
       "149           5.9          3.0           5.1          1.8\n",
       "\n",
       "[150 rows x 4 columns]"
      ]
     },
     "execution_count": 12,
     "metadata": {},
     "output_type": "execute_result"
    }
   ],
   "source": [
    "x"
   ]
  },
  {
   "cell_type": "code",
   "execution_count": 13,
   "metadata": {},
   "outputs": [
    {
     "data": {
      "text/plain": [
       "0      0\n",
       "1      0\n",
       "2      0\n",
       "3      0\n",
       "4      0\n",
       "      ..\n",
       "145    2\n",
       "146    2\n",
       "147    2\n",
       "148    2\n",
       "149    2\n",
       "Name: target, Length: 150, dtype: int64"
      ]
     },
     "execution_count": 13,
     "metadata": {},
     "output_type": "execute_result"
    }
   ],
   "source": [
    "y"
   ]
  },
  {
   "cell_type": "code",
   "execution_count": 14,
   "metadata": {},
   "outputs": [],
   "source": [
    " from sklearn.model_selection import train_test_split"
   ]
  },
  {
   "cell_type": "code",
   "execution_count": 18,
   "metadata": {},
   "outputs": [],
   "source": [
    "x_train, x_test, y_train, y_test = train_test_split(x, y, test_size=0.33, random_state=42)"
   ]
  },
  {
   "cell_type": "code",
   "execution_count": 19,
   "metadata": {},
   "outputs": [],
   "source": [
    "import tensorflow as tf "
   ]
  },
  {
   "cell_type": "code",
   "execution_count": 22,
   "metadata": {},
   "outputs": [],
   "source": [
    "#create features columns "
   ]
  },
  {
   "cell_type": "code",
   "execution_count": 24,
   "metadata": {},
   "outputs": [
    {
     "data": {
      "text/plain": [
       "Index(['sepal_length', 'sepal_width', 'petal_length', 'petal_width'], dtype='object')"
      ]
     },
     "execution_count": 24,
     "metadata": {},
     "output_type": "execute_result"
    }
   ],
   "source": [
    "x.columns"
   ]
  },
  {
   "cell_type": "code",
   "execution_count": 25,
   "metadata": {},
   "outputs": [
    {
     "data": {
      "text/plain": [
       "[NumericColumn(key='sepal_length', shape=(1,), default_value=None, dtype=tf.float32, normalizer_fn=None),\n",
       " NumericColumn(key='sepal_width', shape=(1,), default_value=None, dtype=tf.float32, normalizer_fn=None),\n",
       " NumericColumn(key='petal_length', shape=(1,), default_value=None, dtype=tf.float32, normalizer_fn=None),\n",
       " NumericColumn(key='petal_width', shape=(1,), default_value=None, dtype=tf.float32, normalizer_fn=None)]"
      ]
     },
     "execution_count": 25,
     "metadata": {},
     "output_type": "execute_result"
    }
   ],
   "source": [
    "featcols =[]\n",
    "for cols in x.columns:\n",
    "    featcols.append(tf.feature_column.numeric_column(cols))\n",
    "featcols"
   ]
  },
  {
   "cell_type": "code",
   "execution_count": 26,
   "metadata": {},
   "outputs": [],
   "source": [
    "# create input function or two one for training other for evaluation\n"
   ]
  },
  {
   "cell_type": "code",
   "execution_count": 27,
   "metadata": {},
   "outputs": [],
   "source": [
    "input_func = tf.estimator.inputs.pandas_input_fn(x=x_train,y=y_train,batch_size=10,num_epochs=5,shuffle=True)"
   ]
  },
  {
   "cell_type": "code",
   "execution_count": 30,
   "metadata": {},
   "outputs": [],
   "source": [
    "#create an estimateur "
   ]
  },
  {
   "cell_type": "code",
   "execution_count": 48,
   "metadata": {},
   "outputs": [
    {
     "name": "stdout",
     "output_type": "stream",
     "text": [
      "INFO:tensorflow:Using default config.\n",
      "WARNING:tensorflow:Using temporary folder as model directory: /tmp/tmpfnbcfg7q\n",
      "INFO:tensorflow:Using config: {'_model_dir': '/tmp/tmpfnbcfg7q', '_tf_random_seed': None, '_save_summary_steps': 100, '_save_checkpoints_steps': None, '_save_checkpoints_secs': 600, '_session_config': allow_soft_placement: true\n",
      "graph_options {\n",
      "  rewrite_options {\n",
      "    meta_optimizer_iterations: ONE\n",
      "  }\n",
      "}\n",
      ", '_keep_checkpoint_max': 5, '_keep_checkpoint_every_n_hours': 10000, '_log_step_count_steps': 100, '_train_distribute': None, '_device_fn': None, '_protocol': None, '_eval_distribute': None, '_experimental_distribute': None, '_experimental_max_worker_delay_secs': None, '_session_creation_timeout_secs': 7200, '_service': None, '_cluster_spec': <tensorflow.python.training.server_lib.ClusterSpec object at 0x7f4511c45050>, '_task_type': 'worker', '_task_id': 0, '_global_id_in_cluster': 0, '_master': '', '_evaluation_master': '', '_is_chief': True, '_num_ps_replicas': 0, '_num_worker_replicas': 1}\n"
     ]
    }
   ],
   "source": [
    "classifier = tf.estimator.DNNClassifier(hidden_units = [10,30,20,1020,10],n_classes=3,feature_columns=featcols)"
   ]
  },
  {
   "cell_type": "code",
   "execution_count": 49,
   "metadata": {},
   "outputs": [],
   "source": [
    "# training part "
   ]
  },
  {
   "cell_type": "code",
   "execution_count": 50,
   "metadata": {},
   "outputs": [
    {
     "name": "stdout",
     "output_type": "stream",
     "text": [
      "INFO:tensorflow:Calling model_fn.\n",
      "INFO:tensorflow:Done calling model_fn.\n",
      "INFO:tensorflow:Create CheckpointSaverHook.\n",
      "INFO:tensorflow:Graph was finalized.\n",
      "INFO:tensorflow:Running local_init_op.\n",
      "INFO:tensorflow:Done running local_init_op.\n",
      "INFO:tensorflow:Saving checkpoints for 0 into /tmp/tmpfnbcfg7q/model.ckpt.\n",
      "INFO:tensorflow:loss = 10.924178, step = 1\n",
      "INFO:tensorflow:Saving checkpoints for 50 into /tmp/tmpfnbcfg7q/model.ckpt.\n",
      "INFO:tensorflow:Loss for final step: 4.7497582.\n"
     ]
    },
    {
     "data": {
      "text/plain": [
       "<tensorflow_estimator.python.estimator.canned.dnn.DNNClassifier at 0x7f4511ad7890>"
      ]
     },
     "execution_count": 50,
     "metadata": {},
     "output_type": "execute_result"
    }
   ],
   "source": [
    "classifier.train(input_fn= input_func,steps=50)"
   ]
  },
  {
   "cell_type": "code",
   "execution_count": 51,
   "metadata": {},
   "outputs": [],
   "source": [
    "#evaluate the model \n"
   ]
  },
  {
   "cell_type": "code",
   "execution_count": 52,
   "metadata": {},
   "outputs": [],
   "source": [
    "#create prediction function "
   ]
  },
  {
   "cell_type": "code",
   "execution_count": 53,
   "metadata": {},
   "outputs": [],
   "source": [
    "pred_functi = tf.estimator.inputs.pandas_input_fn(x = x_test,batch_size=len(x_test),shuffle=False)"
   ]
  },
  {
   "cell_type": "code",
   "execution_count": 54,
   "metadata": {},
   "outputs": [
    {
     "name": "stdout",
     "output_type": "stream",
     "text": [
      "INFO:tensorflow:Calling model_fn.\n",
      "INFO:tensorflow:Done calling model_fn.\n",
      "INFO:tensorflow:Graph was finalized.\n",
      "INFO:tensorflow:Restoring parameters from /tmp/tmpfnbcfg7q/model.ckpt-50\n",
      "INFO:tensorflow:Running local_init_op.\n",
      "INFO:tensorflow:Done running local_init_op.\n"
     ]
    }
   ],
   "source": [
    "predictions =list( classifier.predict(input_fn=pred_functi))"
   ]
  },
  {
   "cell_type": "code",
   "execution_count": 55,
   "metadata": {},
   "outputs": [
    {
     "data": {
      "text/plain": [
       "[{'logits': array([-1.5878639,  1.4007545,  1.2267025], dtype=float32),\n",
       "  'probabilities': array([0.0266353 , 0.52892977, 0.44443494], dtype=float32),\n",
       "  'class_ids': array([1]),\n",
       "  'classes': array([b'1'], dtype=object),\n",
       "  'all_class_ids': array([0, 1, 2], dtype=int32),\n",
       "  'all_classes': array([b'0', b'1', b'2'], dtype=object)},\n",
       " {'logits': array([ 4.6354876, -7.480859 , -8.996219 ], dtype=float32),\n",
       "  'probabilities': array([9.9999332e-01, 5.4693378e-06, 1.2017725e-06], dtype=float32),\n",
       "  'class_ids': array([0]),\n",
       "  'classes': array([b'0'], dtype=object),\n",
       "  'all_class_ids': array([0, 1, 2], dtype=int32),\n",
       "  'all_classes': array([b'0', b'1', b'2'], dtype=object)},\n",
       " {'logits': array([-4.549236 ,  3.2930598,  4.061719 ], dtype=float32),\n",
       "  'probabilities': array([1.2440087e-04, 3.1672984e-01, 6.8314576e-01], dtype=float32),\n",
       "  'class_ids': array([2]),\n",
       "  'classes': array([b'2'], dtype=object),\n",
       "  'all_class_ids': array([0, 1, 2], dtype=int32),\n",
       "  'all_classes': array([b'0', b'1', b'2'], dtype=object)},\n",
       " {'logits': array([-1.4162121,  1.2862415,  1.064706 ], dtype=float32),\n",
       "  'probabilities': array([0.03588278, 0.53523785, 0.42887935], dtype=float32),\n",
       "  'class_ids': array([1]),\n",
       "  'classes': array([b'1'], dtype=object),\n",
       "  'all_class_ids': array([0, 1, 2], dtype=int32),\n",
       "  'all_classes': array([b'0', b'1', b'2'], dtype=object)},\n",
       " {'logits': array([-2.046892 ,  1.7017535,  1.6624346], dtype=float32),\n",
       "  'probabilities': array([0.01186383, 0.50377995, 0.48435622], dtype=float32),\n",
       "  'class_ids': array([1]),\n",
       "  'classes': array([b'1'], dtype=object),\n",
       "  'all_class_ids': array([0, 1, 2], dtype=int32),\n",
       "  'all_classes': array([b'0', b'1', b'2'], dtype=object)},\n",
       " {'logits': array([ 4.195384 , -6.7615356, -8.168896 ], dtype=float32),\n",
       "  'probabilities': array([9.9997830e-01, 1.7436561e-05, 4.2682723e-06], dtype=float32),\n",
       "  'class_ids': array([0]),\n",
       "  'classes': array([b'0'], dtype=object),\n",
       "  'all_class_ids': array([0, 1, 2], dtype=int32),\n",
       "  'all_classes': array([b'0', b'1', b'2'], dtype=object)},\n",
       " {'logits': array([-0.5123309 ,  0.6251712 ,  0.15536444], dtype=float32),\n",
       "  'probabilities': array([0.16477977, 0.5139428 , 0.3212775 ], dtype=float32),\n",
       "  'class_ids': array([1]),\n",
       "  'classes': array([b'1'], dtype=object),\n",
       "  'all_class_ids': array([0, 1, 2], dtype=int32),\n",
       "  'all_classes': array([b'0', b'1', b'2'], dtype=object)},\n",
       " {'logits': array([-2.3883657,  1.9191775,  1.9897137], dtype=float32),\n",
       "  'probabilities': array([0.006454  , 0.47926006, 0.514286  ], dtype=float32),\n",
       "  'class_ids': array([2]),\n",
       "  'classes': array([b'2'], dtype=object),\n",
       "  'all_class_ids': array([0, 1, 2], dtype=int32),\n",
       "  'all_classes': array([b'0', b'1', b'2'], dtype=object)},\n",
       " {'logits': array([-2.6834567,  2.1028898,  2.2745557], dtype=float32),\n",
       "  'probabilities': array([0.00379978, 0.4554514 , 0.54074883], dtype=float32),\n",
       "  'class_ids': array([2]),\n",
       "  'classes': array([b'2'], dtype=object),\n",
       "  'all_class_ids': array([0, 1, 2], dtype=int32),\n",
       "  'all_classes': array([b'0', b'1', b'2'], dtype=object)},\n",
       " {'logits': array([-1.1352072,  1.0914433,  0.8030492], dtype=float32),\n",
       "  'probabilities': array([0.05808754, 0.53839993, 0.40351254], dtype=float32),\n",
       "  'class_ids': array([1]),\n",
       "  'classes': array([b'1'], dtype=object),\n",
       "  'all_class_ids': array([0, 1, 2], dtype=int32),\n",
       "  'all_classes': array([b'0', b'1', b'2'], dtype=object)},\n",
       " {'logits': array([-1.8671886,  1.5840005,  1.4918108], dtype=float32),\n",
       "  'probabilities': array([0.01631368, 0.5144986 , 0.46918783], dtype=float32),\n",
       "  'class_ids': array([1]),\n",
       "  'classes': array([b'1'], dtype=object),\n",
       "  'all_class_ids': array([0, 1, 2], dtype=int32),\n",
       "  'all_classes': array([b'0', b'1', b'2'], dtype=object)},\n",
       " {'logits': array([ 3.8711815, -6.2317944, -7.559132 ], dtype=float32),\n",
       "  'probabilities': array([9.9994814e-01, 4.0955365e-05, 1.0860645e-05], dtype=float32),\n",
       "  'class_ids': array([0]),\n",
       "  'classes': array([b'0'], dtype=object),\n",
       "  'all_class_ids': array([0, 1, 2], dtype=int32),\n",
       "  'all_classes': array([b'0', b'1', b'2'], dtype=object)},\n",
       " {'logits': array([ 4.7062635, -7.5969634, -9.128377 ], dtype=float32),\n",
       "  'probabilities': array([9.999945e-01, 4.537057e-06, 9.810466e-07], dtype=float32),\n",
       "  'class_ids': array([0]),\n",
       "  'classes': array([b'0'], dtype=object),\n",
       "  'all_class_ids': array([0, 1, 2], dtype=int32),\n",
       "  'all_classes': array([b'0', b'1', b'2'], dtype=object)},\n",
       " {'logits': array([ 3.9225667, -6.315771 , -7.65575  ], dtype=float32),\n",
       "  'probabilities': array([9.9995482e-01, 3.5770656e-05, 9.3665867e-06], dtype=float32),\n",
       "  'class_ids': array([0]),\n",
       "  'classes': array([b'0'], dtype=object),\n",
       "  'all_class_ids': array([0, 1, 2], dtype=int32),\n",
       "  'all_classes': array([b'0', b'1', b'2'], dtype=object)},\n",
       " {'logits': array([ 4.6354475, -7.4800887, -8.997617 ], dtype=float32),\n",
       "  'probabilities': array([9.9999332e-01, 5.4737729e-06, 1.2001417e-06], dtype=float32),\n",
       "  'class_ids': array([0]),\n",
       "  'classes': array([b'0'], dtype=object),\n",
       "  'all_class_ids': array([0, 1, 2], dtype=int32),\n",
       "  'all_classes': array([b'0', b'1', b'2'], dtype=object)},\n",
       " {'logits': array([-1.1687641 ,  1.1162205 ,  0.83356404], dtype=float32),\n",
       "  'probabilities': array([0.05484918, 0.5389225 , 0.4062283 ], dtype=float32),\n",
       "  'class_ids': array([1]),\n",
       "  'classes': array([b'1'], dtype=object),\n",
       "  'all_class_ids': array([0, 1, 2], dtype=int32),\n",
       "  'all_classes': array([b'0', b'1', b'2'], dtype=object)},\n",
       " {'logits': array([-2.9339216,  2.2621129,  2.514731 ], dtype=float32),\n",
       "  'probabilities': array([0.00241546, 0.43612322, 0.5614613 ], dtype=float32),\n",
       "  'class_ids': array([2]),\n",
       "  'classes': array([b'2'], dtype=object),\n",
       "  'all_class_ids': array([0, 1, 2], dtype=int32),\n",
       "  'all_classes': array([b'0', b'1', b'2'], dtype=object)},\n",
       " {'logits': array([-1.2662777,  1.1830478,  0.9247358], dtype=float32),\n",
       "  'probabilities': array([0.04645802, 0.5380087 , 0.4155333 ], dtype=float32),\n",
       "  'class_ids': array([1]),\n",
       "  'classes': array([b'1'], dtype=object),\n",
       "  'all_class_ids': array([0, 1, 2], dtype=int32),\n",
       "  'all_classes': array([b'0', b'1', b'2'], dtype=object)},\n",
       " {'logits': array([-1.3568418,  1.2453648,  1.0092884], dtype=float32),\n",
       "  'probabilities': array([0.03976213, 0.53652954, 0.4237083 ], dtype=float32),\n",
       "  'class_ids': array([1]),\n",
       "  'classes': array([b'1'], dtype=object),\n",
       "  'all_class_ids': array([0, 1, 2], dtype=int32),\n",
       "  'all_classes': array([b'0', b'1', b'2'], dtype=object)},\n",
       " {'logits': array([-3.0801978,  2.3541083,  2.6554785], dtype=float32),\n",
       "  'probabilities': array([0.00185235, 0.4244349 , 0.5737127 ], dtype=float32),\n",
       "  'class_ids': array([2]),\n",
       "  'classes': array([b'2'], dtype=object),\n",
       "  'all_class_ids': array([0, 1, 2], dtype=int32),\n",
       "  'all_classes': array([b'0', b'1', b'2'], dtype=object)},\n",
       " {'logits': array([ 3.776046 , -6.0756483, -7.381661 ], dtype=float32),\n",
       "  'probabilities': array([9.9993300e-01, 5.2654381e-05, 1.4263964e-05], dtype=float32),\n",
       "  'class_ids': array([0]),\n",
       "  'classes': array([b'0'], dtype=object),\n",
       "  'all_class_ids': array([0, 1, 2], dtype=int32),\n",
       "  'all_classes': array([b'0', b'1', b'2'], dtype=object)},\n",
       " {'logits': array([-1.7872539,  1.5304381,  1.4164865], dtype=float32),\n",
       "  'probabilities': array([0.01878956, 0.5185276 , 0.4626828 ], dtype=float32),\n",
       "  'class_ids': array([1]),\n",
       "  'classes': array([b'1'], dtype=object),\n",
       "  'all_class_ids': array([0, 1, 2], dtype=int32),\n",
       "  'all_classes': array([b'0', b'1', b'2'], dtype=object)},\n",
       " {'logits': array([ 3.9530327, -6.364735 , -7.7147593], dtype=float32),\n",
       "  'probabilities': array([9.9995840e-01, 3.3039403e-05, 8.5649353e-06], dtype=float32),\n",
       "  'class_ids': array([0]),\n",
       "  'classes': array([b'0'], dtype=object),\n",
       "  'all_class_ids': array([0, 1, 2], dtype=int32),\n",
       "  'all_classes': array([b'0', b'1', b'2'], dtype=object)},\n",
       " {'logits': array([-3.0184326,  2.3149333,  2.5962071], dtype=float32),\n",
       "  'probabilities': array([0.00207233, 0.4292501 , 0.56867754], dtype=float32),\n",
       "  'class_ids': array([2]),\n",
       "  'classes': array([b'2'], dtype=object),\n",
       "  'all_class_ids': array([0, 1, 2], dtype=int32),\n",
       "  'all_classes': array([b'0', b'1', b'2'], dtype=object)},\n",
       " {'logits': array([-2.3510292,  1.9031442,  1.9501913], dtype=float32),\n",
       "  'probabilities': array([0.0068876 , 0.48487762, 0.5082348 ], dtype=float32),\n",
       "  'class_ids': array([2]),\n",
       "  'classes': array([b'2'], dtype=object),\n",
       "  'all_class_ids': array([0, 1, 2], dtype=int32),\n",
       "  'all_classes': array([b'0', b'1', b'2'], dtype=object)},\n",
       " {'logits': array([-2.5778487,  2.0387197,  2.171854 ], dtype=float32),\n",
       "  'probabilities': array([0.00459356, 0.4646214 , 0.5307851 ], dtype=float32),\n",
       "  'class_ids': array([2]),\n",
       "  'classes': array([b'2'], dtype=object),\n",
       "  'all_class_ids': array([0, 1, 2], dtype=int32),\n",
       "  'all_classes': array([b'0', b'1', b'2'], dtype=object)},\n",
       " {'logits': array([-3.5847285,  2.675687 ,  3.1388752], dtype=float32),\n",
       "  'probabilities': array([0.00073733, 0.385945  , 0.61331767], dtype=float32),\n",
       "  'class_ids': array([2]),\n",
       "  'classes': array([b'2'], dtype=object),\n",
       "  'all_class_ids': array([0, 1, 2], dtype=int32),\n",
       "  'all_classes': array([b'0', b'1', b'2'], dtype=object)},\n",
       " {'logits': array([-2.8298779,  2.1988242,  2.4135842], dtype=float32),\n",
       "  'probabilities': array([0.00291495, 0.44521382, 0.55187124], dtype=float32),\n",
       "  'class_ids': array([2]),\n",
       "  'classes': array([b'2'], dtype=object),\n",
       "  'all_class_ids': array([0, 1, 2], dtype=int32),\n",
       "  'all_classes': array([b'0', b'1', b'2'], dtype=object)},\n",
       " {'logits': array([ 3.7020428, -5.954974 , -7.241959 ], dtype=float32),\n",
       "  'probabilities': array([9.9991834e-01, 6.3969870e-05, 1.7662200e-05], dtype=float32),\n",
       "  'class_ids': array([0]),\n",
       "  'classes': array([b'0'], dtype=object),\n",
       "  'all_class_ids': array([0, 1, 2], dtype=int32),\n",
       "  'all_classes': array([b'0', b'1', b'2'], dtype=object)},\n",
       " {'logits': array([ 3.6926086, -5.939522 , -7.2242923], dtype=float32),\n",
       "  'probabilities': array([9.999163e-01, 6.558167e-05, 1.814738e-05], dtype=float32),\n",
       "  'class_ids': array([0]),\n",
       "  'classes': array([b'0'], dtype=object),\n",
       "  'all_class_ids': array([0, 1, 2], dtype=int32),\n",
       "  'all_classes': array([b'0', b'1', b'2'], dtype=object)},\n",
       " {'logits': array([ 4.742566 , -7.6552134, -9.19889  ], dtype=float32),\n",
       "  'probabilities': array([9.9999499e-01, 4.1277240e-06, 8.8165865e-07], dtype=float32),\n",
       "  'class_ids': array([0]),\n",
       "  'classes': array([b'0'], dtype=object),\n",
       "  'all_class_ids': array([0, 1, 2], dtype=int32),\n",
       "  'all_classes': array([b'0', b'1', b'2'], dtype=object)},\n",
       " {'logits': array([  5.421046,  -8.764404, -10.473787], dtype=float32),\n",
       "  'probabilities': array([9.9999917e-01, 6.9077589e-07, 1.2501484e-07], dtype=float32),\n",
       "  'class_ids': array([0]),\n",
       "  'classes': array([b'0'], dtype=object),\n",
       "  'all_class_ids': array([0, 1, 2], dtype=int32),\n",
       "  'all_classes': array([b'0', b'1', b'2'], dtype=object)},\n",
       " {'logits': array([-1.2778088,  1.1921475,  0.9349389], dtype=float32),\n",
       "  'probabilities': array([0.04553168, 0.5382724 , 0.41619596], dtype=float32),\n",
       "  'class_ids': array([1]),\n",
       "  'classes': array([b'1'], dtype=object),\n",
       "  'all_class_ids': array([0, 1, 2], dtype=int32),\n",
       "  'all_classes': array([b'0', b'1', b'2'], dtype=object)},\n",
       " {'logits': array([ 4.0455036, -6.5160117, -7.888299 ], dtype=float32),\n",
       "  'probabilities': array([9.9996758e-01, 2.5892732e-05, 6.5644945e-06], dtype=float32),\n",
       "  'class_ids': array([0]),\n",
       "  'classes': array([b'0'], dtype=object),\n",
       "  'all_class_ids': array([0, 1, 2], dtype=int32),\n",
       "  'all_classes': array([b'0', b'1', b'2'], dtype=object)},\n",
       " {'logits': array([ 3.976949 , -6.4036164, -7.7601523], dtype=float32),\n",
       "  'probabilities': array([9.9996102e-01, 3.1028496e-05, 7.9914316e-06], dtype=float32),\n",
       "  'class_ids': array([0]),\n",
       "  'classes': array([b'0'], dtype=object),\n",
       "  'all_class_ids': array([0, 1, 2], dtype=int32),\n",
       "  'all_classes': array([b'0', b'1', b'2'], dtype=object)},\n",
       " {'logits': array([-2.8922184,  2.2353745,  2.4748511], dtype=float32),\n",
       "  'probabilities': array([0.00260522, 0.43926793, 0.5581268 ], dtype=float32),\n",
       "  'class_ids': array([2]),\n",
       "  'classes': array([b'2'], dtype=object),\n",
       "  'all_class_ids': array([0, 1, 2], dtype=int32),\n",
       "  'all_classes': array([b'0', b'1', b'2'], dtype=object)},\n",
       " {'logits': array([-1.1683079,  1.1156296,  0.8332719], dtype=float32),\n",
       "  'probabilities': array([0.05489682, 0.5388261 , 0.40627703], dtype=float32),\n",
       "  'class_ids': array([1]),\n",
       "  'classes': array([b'1'], dtype=object),\n",
       "  'all_class_ids': array([0, 1, 2], dtype=int32),\n",
       "  'all_classes': array([b'0', b'1', b'2'], dtype=object)},\n",
       " {'logits': array([ 4.395859 , -7.0889916, -8.546191 ], dtype=float32),\n",
       "  'probabilities': array([9.9998736e-01, 1.0284603e-05, 2.3951550e-06], dtype=float32),\n",
       "  'class_ids': array([0]),\n",
       "  'classes': array([b'0'], dtype=object),\n",
       "  'all_class_ids': array([0, 1, 2], dtype=int32),\n",
       "  'all_classes': array([b'0', b'1', b'2'], dtype=object)},\n",
       " {'logits': array([ 4.5465713, -7.3350015, -8.830176 ], dtype=float32),\n",
       "  'probabilities': array([9.9999154e-01, 6.9166349e-06, 1.5507753e-06], dtype=float32),\n",
       "  'class_ids': array([0]),\n",
       "  'classes': array([b'0'], dtype=object),\n",
       "  'all_class_ids': array([0, 1, 2], dtype=int32),\n",
       "  'all_classes': array([b'0', b'1', b'2'], dtype=object)},\n",
       " {'logits': array([  5.1811495,  -8.372508 , -10.0224   ], dtype=float32),\n",
       "  'probabilities': array([9.9999845e-01, 1.2993335e-06, 2.4956387e-07], dtype=float32),\n",
       "  'class_ids': array([0]),\n",
       "  'classes': array([b'0'], dtype=object),\n",
       "  'all_class_ids': array([0, 1, 2], dtype=int32),\n",
       "  'all_classes': array([b'0', b'1', b'2'], dtype=object)},\n",
       " {'logits': array([-2.4507515,  1.9506333,  2.0534983], dtype=float32),\n",
       "  'probabilities': array([0.00578154, 0.47156414, 0.52265424], dtype=float32),\n",
       "  'class_ids': array([2]),\n",
       "  'classes': array([b'2'], dtype=object),\n",
       "  'all_class_ids': array([0, 1, 2], dtype=int32),\n",
       "  'all_classes': array([b'0', b'1', b'2'], dtype=object)},\n",
       " {'logits': array([-0.7030925 ,  0.7822853 ,  0.37357682], dtype=float32),\n",
       "  'probabilities': array([0.11973865, 0.5288418 , 0.35141957], dtype=float32),\n",
       "  'class_ids': array([1]),\n",
       "  'classes': array([b'1'], dtype=object),\n",
       "  'all_class_ids': array([0, 1, 2], dtype=int32),\n",
       "  'all_classes': array([b'0', b'1', b'2'], dtype=object)},\n",
       " {'logits': array([-1.4805222,  1.3320092,  1.1240152], dtype=float32),\n",
       "  'probabilities': array([0.03207494, 0.5341125 , 0.43381256], dtype=float32),\n",
       "  'class_ids': array([1]),\n",
       "  'classes': array([b'1'], dtype=object),\n",
       "  'all_class_ids': array([0, 1, 2], dtype=int32),\n",
       "  'all_classes': array([b'0', b'1', b'2'], dtype=object)},\n",
       " {'logits': array([ 4.9649825, -8.018746 , -9.61698  ], dtype=float32),\n",
       "  'probabilities': array([9.9999726e-01, 2.2974032e-06, 4.6465746e-07], dtype=float32),\n",
       "  'class_ids': array([0]),\n",
       "  'classes': array([b'0'], dtype=object),\n",
       "  'all_class_ids': array([0, 1, 2], dtype=int32),\n",
       "  'all_classes': array([b'0', b'1', b'2'], dtype=object)},\n",
       " {'logits': array([ 4.6992598, -7.5849657, -9.116363 ], dtype=float32),\n",
       "  'probabilities': array([9.9999440e-01, 4.6240893e-06, 9.9988267e-07], dtype=float32),\n",
       "  'class_ids': array([0]),\n",
       "  'classes': array([b'0'], dtype=object),\n",
       "  'all_class_ids': array([0, 1, 2], dtype=int32),\n",
       "  'all_classes': array([b'0', b'1', b'2'], dtype=object)},\n",
       " {'logits': array([-1.2032619,  1.1387825,  0.8663397], dtype=float32),\n",
       "  'probabilities': array([0.05174872, 0.5383151 , 0.4099361 ], dtype=float32),\n",
       "  'class_ids': array([1]),\n",
       "  'classes': array([b'1'], dtype=object),\n",
       "  'all_class_ids': array([0, 1, 2], dtype=int32),\n",
       "  'all_classes': array([b'0', b'1', b'2'], dtype=object)},\n",
       " {'logits': array([-2.1817868,  1.7842762,  1.7933486], dtype=float32),\n",
       "  'probabilities': array([0.00934285, 0.49308166, 0.4975754 ], dtype=float32),\n",
       "  'class_ids': array([2]),\n",
       "  'classes': array([b'2'], dtype=object),\n",
       "  'all_class_ids': array([0, 1, 2], dtype=int32),\n",
       "  'all_classes': array([b'0', b'1', b'2'], dtype=object)},\n",
       " {'logits': array([-2.206253 ,  1.800082 ,  1.8166881], dtype=float32),\n",
       "  'probabilities': array([0.00894372, 0.49141386, 0.49964246], dtype=float32),\n",
       "  'class_ids': array([2]),\n",
       "  'classes': array([b'2'], dtype=object),\n",
       "  'all_class_ids': array([0, 1, 2], dtype=int32),\n",
       "  'all_classes': array([b'0', b'1', b'2'], dtype=object)},\n",
       " {'logits': array([-1.3665221,  1.2533282,  1.0176971], dtype=float32),\n",
       "  'probabilities': array([0.03908655, 0.5368016 , 0.42411193], dtype=float32),\n",
       "  'class_ids': array([1]),\n",
       "  'classes': array([b'1'], dtype=object),\n",
       "  'all_class_ids': array([0, 1, 2], dtype=int32),\n",
       "  'all_classes': array([b'0', b'1', b'2'], dtype=object)},\n",
       " {'logits': array([-2.5487046,  2.0238855,  2.1421237], dtype=float32),\n",
       "  'probabilities': array([0.00483704, 0.46819913, 0.52696383], dtype=float32),\n",
       "  'class_ids': array([2]),\n",
       "  'classes': array([b'2'], dtype=object),\n",
       "  'all_class_ids': array([0, 1, 2], dtype=int32),\n",
       "  'all_classes': array([b'0', b'1', b'2'], dtype=object)}]"
      ]
     },
     "execution_count": 55,
     "metadata": {},
     "output_type": "execute_result"
    }
   ],
   "source": [
    "predictions"
   ]
  },
  {
   "cell_type": "code",
   "execution_count": 56,
   "metadata": {},
   "outputs": [
    {
     "data": {
      "text/plain": [
       "[1,\n",
       " 0,\n",
       " 2,\n",
       " 1,\n",
       " 1,\n",
       " 0,\n",
       " 1,\n",
       " 2,\n",
       " 2,\n",
       " 1,\n",
       " 1,\n",
       " 0,\n",
       " 0,\n",
       " 0,\n",
       " 0,\n",
       " 1,\n",
       " 2,\n",
       " 1,\n",
       " 1,\n",
       " 2,\n",
       " 0,\n",
       " 1,\n",
       " 0,\n",
       " 2,\n",
       " 2,\n",
       " 2,\n",
       " 2,\n",
       " 2,\n",
       " 0,\n",
       " 0,\n",
       " 0,\n",
       " 0,\n",
       " 1,\n",
       " 0,\n",
       " 0,\n",
       " 2,\n",
       " 1,\n",
       " 0,\n",
       " 0,\n",
       " 0,\n",
       " 2,\n",
       " 1,\n",
       " 1,\n",
       " 0,\n",
       " 0,\n",
       " 1,\n",
       " 2,\n",
       " 2,\n",
       " 1,\n",
       " 2]"
      ]
     },
     "execution_count": 56,
     "metadata": {},
     "output_type": "execute_result"
    }
   ],
   "source": [
    "final_pred = []\n",
    "\n",
    "for pred in predictions:\n",
    "    final_pred.append(pred[\"class_ids\"][0])\n",
    "final_pred"
   ]
  },
  {
   "cell_type": "code",
   "execution_count": 57,
   "metadata": {},
   "outputs": [],
   "source": [
    "#final predds"
   ]
  },
  {
   "cell_type": "code",
   "execution_count": 58,
   "metadata": {},
   "outputs": [],
   "source": [
    "from sklearn.metrics import classification_report,confusion_matrix"
   ]
  },
  {
   "cell_type": "code",
   "execution_count": 59,
   "metadata": {},
   "outputs": [
    {
     "name": "stdout",
     "output_type": "stream",
     "text": [
      "[[19  0  0]\n",
      " [ 0 14  1]\n",
      " [ 0  2 14]]\n"
     ]
    }
   ],
   "source": [
    "print(confusion_matrix(y_test,final_pred))"
   ]
  },
  {
   "cell_type": "code",
   "execution_count": 60,
   "metadata": {},
   "outputs": [
    {
     "name": "stdout",
     "output_type": "stream",
     "text": [
      "              precision    recall  f1-score   support\n",
      "\n",
      "           0       1.00      1.00      1.00        19\n",
      "           1       0.88      0.93      0.90        15\n",
      "           2       0.93      0.88      0.90        16\n",
      "\n",
      "    accuracy                           0.94        50\n",
      "   macro avg       0.94      0.94      0.94        50\n",
      "weighted avg       0.94      0.94      0.94        50\n",
      "\n"
     ]
    }
   ],
   "source": [
    "print(classification_report(y_test,final_pred))"
   ]
  },
  {
   "cell_type": "code",
   "execution_count": null,
   "metadata": {},
   "outputs": [],
   "source": []
  },
  {
   "cell_type": "code",
   "execution_count": null,
   "metadata": {},
   "outputs": [],
   "source": []
  }
 ],
 "metadata": {
  "kernelspec": {
   "display_name": "Python 3",
   "language": "python",
   "name": "python3"
  },
  "language_info": {
   "codemirror_mode": {
    "name": "ipython",
    "version": 3
   },
   "file_extension": ".py",
   "mimetype": "text/x-python",
   "name": "python",
   "nbconvert_exporter": "python",
   "pygments_lexer": "ipython3",
   "version": "3.7.4"
  }
 },
 "nbformat": 4,
 "nbformat_minor": 2
}
